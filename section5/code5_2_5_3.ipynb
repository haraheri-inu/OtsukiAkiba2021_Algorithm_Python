{
  "nbformat": 4,
  "nbformat_minor": 0,
  "metadata": {
    "colab": {
      "name": "code5.2-5.3.ipynb",
      "provenance": []
    },
    "kernelspec": {
      "name": "python3",
      "display_name": "Python 3"
    },
    "language_info": {
      "name": "python"
    }
  },
  "cells": [
    {
      "cell_type": "markdown",
      "metadata": {
        "id": "vX72GXdUZmtt"
      },
      "source": [
        "- 緩和処理を行う関数chminを以下に定義する。\n",
        "- 頂点uから頂点vに至る辺が存在するとする。その遷移コストをcとしたとき、下で定義される関数chminによって行う次の操作を緩和という。\n",
        "$$\n",
        "\\mathtt{chmin}(dp[v], dp[u]+c)\n",
        "$$\n",
        "現状登録されているvへの最小コストと、uからvへ遷移する場合の最小コストを比較して、より小さい方を$dp[v]$とする。\n"
      ]
    },
    {
      "cell_type": "code",
      "metadata": {
        "id": "_vUqxm_qf-eT"
      },
      "source": [
        "import math"
      ],
      "execution_count": 10,
      "outputs": []
    },
    {
      "cell_type": "code",
      "metadata": {
        "id": "cdZSuMHMas6C"
      },
      "source": [
        "# code5.2\n",
        "def chmin(a, b):\n",
        "    \"\"\"\n",
        "    input:\n",
        "    a:num, 現在の最適値\n",
        "    b:num, 比較対象\n",
        "    output:\n",
        "    a>bならばaにbを代入、それ以外は何もしない\n",
        "    \"\"\"\n",
        "    if a > b:\n",
        "        a = b\n",
        "    return a"
      ],
      "execution_count": 21,
      "outputs": []
    },
    {
      "cell_type": "code",
      "metadata": {
        "colab": {
          "base_uri": "https://localhost:8080/"
        },
        "id": "NvVjBUf_bGf-",
        "outputId": "f1831a3b-d093-4faa-8cf4-d38142f97508"
      },
      "source": [
        "# test\n",
        "a = 1\n",
        "b = 0\n",
        "chmin(a, b)"
      ],
      "execution_count": 3,
      "outputs": [
        {
          "output_type": "execute_result",
          "data": {
            "text/plain": [
              "0"
            ]
          },
          "metadata": {
            "tags": []
          },
          "execution_count": 3
        }
      ]
    },
    {
      "cell_type": "code",
      "metadata": {
        "colab": {
          "base_uri": "https://localhost:8080/"
        },
        "id": "gXy7tJbkcJHq",
        "outputId": "eed30795-13f9-427c-dec9-84c0ebcbafc2"
      },
      "source": [
        "a = 0\n",
        "b = 1\n",
        "chmin(a, b)"
      ],
      "execution_count": 4,
      "outputs": [
        {
          "output_type": "execute_result",
          "data": {
            "text/plain": [
              "0"
            ]
          },
          "metadata": {
            "tags": []
          },
          "execution_count": 4
        }
      ]
    },
    {
      "cell_type": "code",
      "metadata": {
        "colab": {
          "base_uri": "https://localhost:8080/"
        },
        "id": "4PWJ716QcMVY",
        "outputId": "722659da-9cab-4808-88a3-75d7e38b6fb0"
      },
      "source": [
        "a = 1\n",
        "b = 2\n",
        "chmin(a, b)"
      ],
      "execution_count": 6,
      "outputs": [
        {
          "output_type": "execute_result",
          "data": {
            "text/plain": [
              "1"
            ]
          },
          "metadata": {
            "tags": []
          },
          "execution_count": 6
        }
      ]
    },
    {
      "cell_type": "code",
      "metadata": {
        "id": "2vLBmCAFcO9j"
      },
      "source": [
        "# code5.3\n",
        "def dp_frog():\n",
        "    # 標準入力\n",
        "    N = int(input())\n",
        "    H = list(map(int, input().split()))\n",
        "    \n",
        "    # 初期条件\n",
        "    dp = [math.inf]*N\n",
        "    dp[0] = 0\n",
        "\n",
        "    for i in range(1, N):\n",
        "        if i == 1:\n",
        "            dp[i] = chmin(dp[i], dp[i-1]+abs(H[i-1]-H[i]))\n",
        "        else:\n",
        "            dp[i] = chmin(dp[i], dp[i-1]+abs(H[i-1]-H[i]))\n",
        "            dp[i] = chmin(dp[i], dp[i-2]+abs(H[i-2]-H[i]))\n",
        "    return f\"dp:{dp}、最終コスト:{dp[-1]}\""
      ],
      "execution_count": 23,
      "outputs": []
    },
    {
      "cell_type": "code",
      "metadata": {
        "colab": {
          "base_uri": "https://localhost:8080/",
          "height": 69
        },
        "id": "gweDQfScf10q",
        "outputId": "b6f05d76-5068-42a9-839c-8208104071e8"
      },
      "source": [
        "dp_frog()"
      ],
      "execution_count": 24,
      "outputs": [
        {
          "output_type": "stream",
          "text": [
            "7\n",
            "2 9 4 5 1 6 10\n"
          ],
          "name": "stdout"
        },
        {
          "output_type": "execute_result",
          "data": {
            "application/vnd.google.colaboratory.intrinsic+json": {
              "type": "string"
            },
            "text/plain": [
              "'dp:[0, 7, 2, 3, 5, 4, 8]、最終コスト:8'"
            ]
          },
          "metadata": {
            "tags": []
          },
          "execution_count": 24
        }
      ]
    }
  ]
}